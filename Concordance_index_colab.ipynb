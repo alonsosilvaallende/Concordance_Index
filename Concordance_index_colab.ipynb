{
  "nbformat": 4,
  "nbformat_minor": 0,
  "metadata": {
    "colab": {
      "name": "Concordance_index-colab.ipynb",
      "provenance": [],
      "collapsed_sections": [],
      "include_colab_link": true
    },
    "kernelspec": {
      "name": "python3",
      "display_name": "Python 3"
    }
  },
  "cells": [
    {
      "cell_type": "markdown",
      "metadata": {
        "id": "view-in-github",
        "colab_type": "text"
      },
      "source": [
        "<a href=\"https://colab.research.google.com/github/alonsosilvaallende/Concordance_Index/blob/master/Concordance_index_colab.ipynb\" target=\"_parent\"><img src=\"https://colab.research.google.com/assets/colab-badge.svg\" alt=\"Open In Colab\"/></a>"
      ]
    },
    {
      "cell_type": "markdown",
      "metadata": {
        "id": "yujaTHwquzdV",
        "colab_type": "text"
      },
      "source": [
        "# Concordance index\n",
        "[Alonso Silva](http://www.dim.uchile.cl/~alsilva/) [(@alonsosilva)](https://twitter.com/alonsosilva) | 2019/10/08"
      ]
    },
    {
      "cell_type": "code",
      "metadata": {
        "id": "Tg64n0Jjw-3Z",
        "colab_type": "code",
        "colab": {}
      },
      "source": [
        "# install lifelines\n",
        "!pip install -q lifelines"
      ],
      "execution_count": 0,
      "outputs": []
    },
    {
      "cell_type": "code",
      "metadata": {
        "id": "EIejd1FnxF0T",
        "colab_type": "code",
        "colab": {}
      },
      "source": [
        "# usual imports\n",
        "import pandas as pd\n",
        "import numpy as np\n",
        "from matplotlib import pyplot as plt\n",
        "\n",
        "# import concordance index\n",
        "from lifelines.utils import concordance_index\n",
        "\n",
        "%matplotlib inline"
      ],
      "execution_count": 0,
      "outputs": []
    },
    {
      "cell_type": "markdown",
      "metadata": {
        "id": "bD2oGv0aW1du",
        "colab_type": "text"
      },
      "source": [
        "The _concordance index_ or _c-index_ is a metric to evaluate the predictions made by an algorithm. It is defined as the proportion of concordant pairs divided by the total number of possible evaluation pairs. Let's see through some examples what does this definition mean in practice.\n",
        "\n",
        "Suppose we are a telecom operator with 5 customers (Alice, Bob, Carol, Dave, and Eve) and we're trying to predict who are going to unsubscribe from our services (also known as churn) first.\n",
        "\n",
        "Suppose that Alice left after 1 year, Bob after 2 years, Carol after 3 years, Dave after 4 years and Eve after 5 years. \n",
        "\n",
        "Suppose that our algorithm made the following prediction: Alice will leave after 1 year, Bob after 2 years, Carol after 3 years, Dave after 4 years, and Eve after 5 years. In that case, the concordance index is equal to its maximum value 1."
      ]
    },
    {
      "cell_type": "code",
      "metadata": {
        "id": "70XQmwaKXTjT",
        "colab_type": "code",
        "outputId": "eb5771d1-1123-4e16-9ffd-4e1f2f5a65e7",
        "colab": {
          "base_uri": "https://localhost:8080/",
          "height": 139
        }
      },
      "source": [
        "names = ['Alice', 'Bob', 'Carol', 'Dave', 'Eve']\n",
        "events = [1, 2, 3, 4, 5]\n",
        "preds = [1, 2, 3, 4, 5]\n",
        "df = pd.DataFrame(data={'Churn times': events, 'Predictions': preds}, index=names)\n",
        "print(df)\n",
        "print(f'Concordance index: {concordance_index(events, preds)}')"
      ],
      "execution_count": 3,
      "outputs": [
        {
          "output_type": "stream",
          "text": [
            "       Churn times  Predictions\n",
            "Alice            1            1\n",
            "Bob              2            2\n",
            "Carol            3            3\n",
            "Dave             4            4\n",
            "Eve              5            5\n",
            "Concordance index: 1.0\n"
          ],
          "name": "stdout"
        }
      ]
    },
    {
      "cell_type": "markdown",
      "metadata": {
        "id": "fELOvbV0am9N",
        "colab_type": "text"
      },
      "source": [
        "However, the concordance index is interested on the **order of the predictions**, not the predictions themselves. Assume now that the algorithm predicted that: Alice will leave after 2 years, Bob after 3 years, Carol after 5 years, Dave after 8 years and Eve after 14 years. In that case, the concordance index is still equal to its maximum value 1 since the order of the predictions is right."
      ]
    },
    {
      "cell_type": "code",
      "metadata": {
        "id": "oH2oytkpXLCj",
        "colab_type": "code",
        "outputId": "8b716b1a-8fb3-4455-c5d7-c9492340cb99",
        "colab": {
          "base_uri": "https://localhost:8080/",
          "height": 139
        }
      },
      "source": [
        "names = ['Alice', 'Bob', 'Carol', 'Dave', 'Eve']\n",
        "events = [1, 2, 3, 4, 5]\n",
        "preds = [2, 3, 5, 8, 14]\n",
        "df = pd.DataFrame(data={'Churn times': events, 'Predictions': preds}, index=names)\n",
        "print(df)\n",
        "print(f'Concordance index: {concordance_index(events, preds)}')"
      ],
      "execution_count": 4,
      "outputs": [
        {
          "output_type": "stream",
          "text": [
            "       Churn times  Predictions\n",
            "Alice            1            2\n",
            "Bob              2            3\n",
            "Carol            3            5\n",
            "Dave             4            8\n",
            "Eve              5           14\n",
            "Concordance index: 1.0\n"
          ],
          "name": "stdout"
        }
      ]
    },
    {
      "cell_type": "markdown",
      "metadata": {
        "id": "9IpSAjRWb5Ab",
        "colab_type": "text"
      },
      "source": [
        "This is very different from other evaluation measures such as [mean squared error](https://en.wikipedia.org/wiki/Mean_squared_error) or [mean absolute error](https://en.wikipedia.org/wiki/Mean_absolute_error). Actually for any strictly increasing function the concordance index will still be equal to 1. Here is an example with the logarithm function:"
      ]
    },
    {
      "cell_type": "code",
      "metadata": {
        "colab_type": "code",
        "outputId": "f0517880-9eb5-4890-e4de-b9fa06cb67ca",
        "id": "1woJm4ZgcKeU",
        "colab": {
          "base_uri": "https://localhost:8080/",
          "height": 139
        }
      },
      "source": [
        "names = ['Alice', 'Bob', 'Carol', 'Dave', 'Eve']\n",
        "events = [1, 2, 3, 4, 5]\n",
        "preds = np.log(events)\n",
        "df = pd.DataFrame(data={'Churn times': events, 'Predictions': preds}, index=names)\n",
        "print(df)\n",
        "print(f'Concordance index: {concordance_index(events, preds)}')"
      ],
      "execution_count": 5,
      "outputs": [
        {
          "output_type": "stream",
          "text": [
            "       Churn times  Predictions\n",
            "Alice            1     0.000000\n",
            "Bob              2     0.693147\n",
            "Carol            3     1.098612\n",
            "Dave             4     1.386294\n",
            "Eve              5     1.609438\n",
            "Concordance index: 1.0\n"
          ],
          "name": "stdout"
        }
      ]
    },
    {
      "cell_type": "markdown",
      "metadata": {
        "id": "TB1Xs8SlbVwr",
        "colab_type": "text"
      },
      "source": [
        "Let's consider the case where the algorithm got the order of the predictions completely wrong. Let's say the algorithm predicted that Eve will churn first after 1 year, Dave after 2 years, Carol after 3 years, Dave after 4 years, and Alice after 5 years, so the order is completely reversed (although notice that Carol did leave after 3 years!). In that case, the concordance index will be equal to its minimum value 0 since the order of the predictions is wrong."
      ]
    },
    {
      "cell_type": "code",
      "metadata": {
        "id": "13hvZDL6ddsn",
        "colab_type": "code",
        "outputId": "abdd14ca-98b7-467b-c905-9d49eb56be38",
        "colab": {
          "base_uri": "https://localhost:8080/",
          "height": 139
        }
      },
      "source": [
        "names = ['Alice', 'Bob', 'Carol', 'Dave', 'Eve']\n",
        "events = [1, 2, 3, 4, 5]\n",
        "preds = [5, 4, 3, 2, 1]\n",
        "df = pd.DataFrame(data={'Churn times': events, 'Predictions': preds}, index=names)\n",
        "print(df)\n",
        "print(f'Concordance index: {concordance_index(events, preds)}')"
      ],
      "execution_count": 6,
      "outputs": [
        {
          "output_type": "stream",
          "text": [
            "       Churn times  Predictions\n",
            "Alice            1            5\n",
            "Bob              2            4\n",
            "Carol            3            3\n",
            "Dave             4            2\n",
            "Eve              5            1\n",
            "Concordance index: 0.0\n"
          ],
          "name": "stdout"
        }
      ]
    },
    {
      "cell_type": "markdown",
      "metadata": {
        "id": "fEq7I440kuM1",
        "colab_type": "text"
      },
      "source": [
        "Actually the concordance index will be zero for every strictly decreasing function of the churn times. Here is an example for $f(x)=1/x$:"
      ]
    },
    {
      "cell_type": "code",
      "metadata": {
        "id": "mTXu1ZT_k_Aa",
        "colab_type": "code",
        "outputId": "43ceba73-180f-4b5d-d427-485fac1c2188",
        "colab": {
          "base_uri": "https://localhost:8080/",
          "height": 139
        }
      },
      "source": [
        "names = ['Alice', 'Bob', 'Carol', 'Dave', 'Eve']\n",
        "events = [1, 2, 3, 4, 5]\n",
        "preds = [1/event for event in events]\n",
        "df = pd.DataFrame(data={'Churn dates': events, 'Predictions': preds}, index=names)\n",
        "print(df)\n",
        "print(f'Concordance index: {concordance_index(events, preds)}')"
      ],
      "execution_count": 7,
      "outputs": [
        {
          "output_type": "stream",
          "text": [
            "       Churn dates  Predictions\n",
            "Alice            1     1.000000\n",
            "Bob              2     0.500000\n",
            "Carol            3     0.333333\n",
            "Dave             4     0.250000\n",
            "Eve              5     0.200000\n",
            "Concordance index: 0.0\n"
          ],
          "name": "stdout"
        }
      ]
    },
    {
      "cell_type": "markdown",
      "metadata": {
        "id": "wD6u_HRjdkaS",
        "colab_type": "text"
      },
      "source": [
        "Now comes the interesting part. What does the concordance index do when the order of the predictions is not completely right, nor completely wrong? Which score do you give to the following prediction:\n",
        "+ *Prediction 1*: Alice will leave after 3 years, Bob after 2 years, Carol after 1 year, Dave after 5 years, and Eve after 4 years.\n",
        "\n",
        "Well, the concordance index lists all the possible pairs, in our case there are 10 potential pairs:\n",
        "1. Alice and Bob\n",
        "2. Alice and Carol\n",
        "3. Alice and Dave\n",
        "4. Alice and Eve\n",
        "5. Bob and Carol\n",
        "6. Bob and Dave\n",
        "7. Bob and Eve\n",
        "8. Carol and Dave\n",
        "9. Carol and Eve\n",
        "10. Dave and Eve\n",
        "\n",
        "and then it counts how many of the order of these predictions of pairs were right. For example, for *Prediction 1*: \n",
        "\n",
        "1. <font color='red'>Alice is predicted to churn after Bob, while in reality Bob churns after Alice.</font>\n",
        "2. <font color='red'>Alice is predicted to churn after Carol, while Carol churned after Alice.</font>\n",
        "3. <font color='blue'>Alice is predicted to churn before Dave, and Alice did churn before Dave.</font>\n",
        "4. <font color='blue'>Alice is predicted to churn before Eve, and Alice did churn before Eve.</font>\n",
        "5. <font color='red'>Bob is predicted to churn after Carol, while Carol churned after Bob.</font>\n",
        "6. <font color='blue'>Bob is predicted to churn before Dave, and Bob did churn before Dave.</font>\n",
        "7. <font color='blue'>Bob is predicted to churn before Eve, and Bob did churn before Eve.</font>\n",
        "8. <font color='blue'>Carol is predicted to churn before Dave, and Carol did churn before Dave.</font>\n",
        "9. <font color='blue'>Carol is predicted to churn before Eve, and Carol did churn before Eve.</font>\n",
        "10. <font color='red'>Dave is predicted to churn after Eve, while Eve churned after Dave.</font>\n",
        "\n",
        "There are 6 concordant pairs out of 10 possible pairs so the concordance index is equal to 6/10 or 0.6.\n"
      ]
    },
    {
      "cell_type": "code",
      "metadata": {
        "id": "c6Cn95BBb9HD",
        "colab_type": "code",
        "outputId": "4aefd543-216c-4b76-a9d2-24bc959355ab",
        "colab": {
          "base_uri": "https://localhost:8080/",
          "height": 139
        }
      },
      "source": [
        "names = ['Alice', 'Bob', 'Carol', 'Dave', 'Eve']\n",
        "events = [1, 2, 3, 4, 5]\n",
        "preds = [3, 2, 1, 5, 4]\n",
        "df = pd.DataFrame(data={'Churn times': events, 'Predictions': preds}, index=names)\n",
        "print(df)\n",
        "print(f'Concordance index: {concordance_index(events, preds)}')"
      ],
      "execution_count": 8,
      "outputs": [
        {
          "output_type": "stream",
          "text": [
            "       Churn times  Predictions\n",
            "Alice            1            3\n",
            "Bob              2            2\n",
            "Carol            3            1\n",
            "Dave             4            5\n",
            "Eve              5            4\n",
            "Concordance index: 0.6\n"
          ],
          "name": "stdout"
        }
      ]
    },
    {
      "cell_type": "markdown",
      "metadata": {
        "id": "xfLLk7J6eOwY",
        "colab_type": "text"
      },
      "source": [
        "What happens in case of ties? Ties are counted as half concordant pair:"
      ]
    },
    {
      "cell_type": "code",
      "metadata": {
        "id": "2rgbeMkjeBcZ",
        "colab_type": "code",
        "outputId": "bf90fc0a-c222-45ac-bdcd-498cdcb50cc3",
        "colab": {
          "base_uri": "https://localhost:8080/",
          "height": 139
        }
      },
      "source": [
        "names = ['Alice', 'Bob', 'Carol', 'Dave', 'Eve']\n",
        "events = [1, 2, 3, 4, 5]\n",
        "preds = [1, 2, 3, 4, 4]\n",
        "df = pd.DataFrame(data={'Name': names, 'Churn times': events, 'Predictions': preds}, index=names)\n",
        "print(df)\n",
        "print(f'Concordance index: {concordance_index(events, preds)}')"
      ],
      "execution_count": 9,
      "outputs": [
        {
          "output_type": "stream",
          "text": [
            "        Name  Churn times  Predictions\n",
            "Alice  Alice            1            1\n",
            "Bob      Bob            2            2\n",
            "Carol  Carol            3            3\n",
            "Dave    Dave            4            4\n",
            "Eve      Eve            5            4\n",
            "Concordance index: 0.95\n"
          ],
          "name": "stdout"
        }
      ]
    },
    {
      "cell_type": "markdown",
      "metadata": {
        "id": "T6nJm6Rkcev0",
        "colab_type": "text"
      },
      "source": [
        "Another interesting characteristic of the concordance index is that it supports right censoring, i.e., the case when by the end of the study, the event of interest (for example, in medicine 'death of a patient' or in our example 'churn of a customer') has only occurred for a subset of the observations.\n",
        "\n",
        "Up to now, we never had to specify if our observations were right censored or not because the concordance index default option is that all events are observed. Let's change that.\n",
        "\n",
        "Suppose that Alice churned after 1 year, Bob after 2 years, <font color='green'>Carol haven't churned after 3 years</font>, Dave churned after 4 years and Eve after 5 years.\n",
        "\n",
        "and our prediction is the following:\n",
        "\n",
        "+ *Prediction 2*: Alice will churn after 1 year, Bob after 2 years, Carol after 3 years, Dave after 5 years, and Eve after 4 years.\n"
      ]
    },
    {
      "cell_type": "markdown",
      "metadata": {
        "id": "USiqbR6gjZ1q",
        "colab_type": "text"
      },
      "source": [
        "Now we cannot give a score to the pairs (Carol, Dave) and (Carol, Eve) since we simply don't know who churned first. Therefore we only have 8 potential pairs:\n",
        "\n",
        "1. <font color='blue'>Alice is predicted to churn before Bob, and Alice did churn before Bob.</font>\n",
        "2. <font color='blue'>Alice is predicted to churn before Carol, and Alice did churn before Carol.</font>\n",
        "3. <font color='blue'>Alice is predicted to churn before Dave, and Alice did churn before Dave.</font>\n",
        "4. <font color='blue'>Alice is predicted to churn before Eve, and Alice did churn before Eve.</font>\n",
        "5. <font color='blue'>Bob is predicted to churn before Carol, and Bob did churn before Carol.</font>\n",
        "6. <font color='blue'>Bob is predicted to churn before Dave, and Bob did churn before Dave.</font>\n",
        "7. <font color='blue'>Bob is predicted to churn before Eve, and Bob did churn before Eve.</font>\n",
        "8. <font color='red'>Dave is predicted to churn after Eve, while Eve churned after Dave.</font>\n",
        "\n",
        "Therefore the concordance index is equal to 7/8 or 0.875."
      ]
    },
    {
      "cell_type": "code",
      "metadata": {
        "id": "FGGblZbKeuEH",
        "colab_type": "code",
        "outputId": "78cd9cb8-7f47-4786-cf68-d775ce1a0caf",
        "colab": {
          "base_uri": "https://localhost:8080/",
          "height": 139
        }
      },
      "source": [
        "names = ['Alice', 'Bob', 'Carol', 'Dave', 'Eve']\n",
        "times = [1, 2, 3, 4, 5]\n",
        "preds = [1, 2, 3, 5, 4]\n",
        "event_obs = [True, True, False, True, True]\n",
        "df = pd.DataFrame(data={'Times': times, 'Predictions': preds, 'Event observed?': event_obs}, index=names)\n",
        "print(df)\n",
        "print(f'Concordance index: {concordance_index(events, preds, event_obs)}')"
      ],
      "execution_count": 10,
      "outputs": [
        {
          "output_type": "stream",
          "text": [
            "       Times  Predictions  Event observed?\n",
            "Alice      1            1             True\n",
            "Bob        2            2             True\n",
            "Carol      3            3            False\n",
            "Dave       4            5             True\n",
            "Eve        5            4             True\n",
            "Concordance index: 0.875\n"
          ],
          "name": "stdout"
        }
      ]
    },
    {
      "cell_type": "markdown",
      "metadata": {
        "id": "w9gJdtN7q6jp",
        "colab_type": "text"
      },
      "source": [
        "## Difference between libraries"
      ]
    },
    {
      "cell_type": "markdown",
      "metadata": {
        "id": "yj0u5J8uyOLZ",
        "colab_type": "text"
      },
      "source": [
        "Lifelines concordance index inputs are:\n",
        "\n",
        "+ event/censoring times\n",
        "+ predicted scores\n",
        "+ event observed (*optional*). The default assumes all events observed.\n",
        "\n",
        "Lifelines concordance index output is:\n",
        "\n",
        "+ concordance index\n",
        "\n",
        "Let's compare the concordance index of [lifelines](https://lifelines.readthedocs.io/en/latest/) with the ones provided by [scikit-survival](https://scikit-survival.readthedocs.io/en/latest/) and [PySurvival](https://pysurvival.io) libraries."
      ]
    },
    {
      "cell_type": "code",
      "metadata": {
        "id": "-nHs7CGyfIcK",
        "colab_type": "code",
        "colab": {}
      },
      "source": [
        "!pip install -q pysurvival scikit-survival"
      ],
      "execution_count": 0,
      "outputs": []
    },
    {
      "cell_type": "code",
      "metadata": {
        "id": "ohcR8VX0dEgZ",
        "colab_type": "code",
        "colab": {}
      },
      "source": [
        "from lifelines.utils import concordance_index as ci_lifelines\n",
        "from pysurvival.utils.metrics import concordance_index as ci_pysurvival\n",
        "from sksurv.metrics import concordance_index_censored as ci_scikit"
      ],
      "execution_count": 0,
      "outputs": []
    },
    {
      "cell_type": "markdown",
      "metadata": {
        "id": "V7xuP687dV2J",
        "colab_type": "text"
      },
      "source": [
        "Scikit-survival's concordance index inputs are:\n",
        "+ event observed\n",
        "+ event/censoring times\n",
        "+ predicted risks\n",
        "+ tied tolerance (float, optional, default: 1e-8) – The tolerance value for considering ties. If the absolute difference between risk scores is smaller or equal than tied_tol, risk scores are considered tied. \n",
        "\n",
        "Scikit-survival's concordance index outputs are:\n",
        "\n",
        "+ Concordance index\n",
        "+ Number of concordant pairs\n",
        "+ Number of discordant pairs\n",
        "+ Number of pairs having tied estimated risks\n",
        "+ Number of comparable pairs sharing the same time\n"
      ]
    },
    {
      "cell_type": "markdown",
      "metadata": {
        "id": "NMY28CGB15IL",
        "colab_type": "text"
      },
      "source": [
        "Notice that lifelines gives the concordance between the actuals and the predicted *scores*, while scikit-survival gives the concordance between the actuals and the predicted *risks*, so over the same lists, they are the complete opposite.\n",
        "\n",
        "$$\n",
        "\\textrm{Concordance-index (lifelines)}= 1-\\textrm{Concordance-index (scikit-survival)}\n",
        "$$\n"
      ]
    },
    {
      "cell_type": "code",
      "metadata": {
        "id": "DEFgM_FKxIzk",
        "colab_type": "code",
        "outputId": "8e3e5b36-631d-4611-a3b6-61a32b85334d",
        "colab": {
          "base_uri": "https://localhost:8080/",
          "height": 156
        }
      },
      "source": [
        "names = ['Alice', 'Bob', 'Carol', 'Dave', 'Eve']\n",
        "events = [1, 2, 3, 4, 5]\n",
        "preds = [1, 2, 3, 4, 5]\n",
        "event_obs = [True, True, True, True, True]\n",
        "df = pd.DataFrame(data={'Times': times, 'Predictions': preds, 'Event observed?': event_obs}, index=names)\n",
        "print(df)\n",
        "print(f'Concordance index (lifelines): {ci_lifelines(events, preds, event_obs)}')\n",
        "print(f'Concordance-index (scikit-survival): {ci_scikit(event_obs, events, preds)[0]}')"
      ],
      "execution_count": 13,
      "outputs": [
        {
          "output_type": "stream",
          "text": [
            "       Times  Predictions  Event observed?\n",
            "Alice      1            1             True\n",
            "Bob        2            2             True\n",
            "Carol      3            3             True\n",
            "Dave       4            4             True\n",
            "Eve        5            5             True\n",
            "Concordance index (lifelines): 1.0\n",
            "Concordance-index (scikit-survival): 0.0\n"
          ],
          "name": "stdout"
        }
      ]
    },
    {
      "cell_type": "markdown",
      "metadata": {
        "id": "EyT74Q4i3Kpy",
        "colab_type": "text"
      },
      "source": [
        "As mentioned above, scikit survival also gives the number of concordant pairs, number of discordant pairs, number of pairs having tied estimated risks, and the number of comparable pairs sharing the same time."
      ]
    },
    {
      "cell_type": "code",
      "metadata": {
        "id": "0RQDwjdqfrbF",
        "colab_type": "code",
        "outputId": "6e76d61e-eeb9-45b8-fbce-892516cb50ff",
        "colab": {
          "base_uri": "https://localhost:8080/",
          "height": 208
        }
      },
      "source": [
        "names = ['Alice', 'Bob', 'Carol', 'Dave', 'Eve']\n",
        "events = [1, 2, 3, 4, 5]\n",
        "preds = [5, 4, 3, 2, 1]\n",
        "event_obs = [True, True, True, True, True]\n",
        "df = pd.DataFrame(data={'Times': times, 'Predictions': preds, 'Event observed?': event_obs}, index=names)\n",
        "print(df)\n",
        "print(f'Concordance-index (scikit-survival): {ci_scikit(event_obs, events, preds)[0]}')\n",
        "print(f'Number of concordant pairs (scikit-survival): {ci_scikit(event_obs, events, preds)[1]}')\n",
        "print(f'Number of discordant pairs (scikit-survival): {ci_scikit(event_obs, events, preds)[2]}')\n",
        "print(f'Number of pairs having tied estimated risks (scikit-survival): {ci_scikit(event_obs, events, preds)[3]}')\n",
        "print(f'Number of comparable pairs sharing the same time (scikit-survival): {ci_scikit(event_obs, events, preds)[4]}')"
      ],
      "execution_count": 14,
      "outputs": [
        {
          "output_type": "stream",
          "text": [
            "       Times  Predictions  Event observed?\n",
            "Alice      1            5             True\n",
            "Bob        2            4             True\n",
            "Carol      3            3             True\n",
            "Dave       4            2             True\n",
            "Eve        5            1             True\n",
            "Concordance-index (scikit-survival): 1.0\n",
            "Number of concordant pairs (scikit-survival): 10\n",
            "Number of discordant pairs (scikit-survival): 0\n",
            "Number of pairs having tied estimated risks (scikit-survival): 0\n",
            "Number of comparable pairs sharing the same time (scikit-survival): 0\n"
          ],
          "name": "stdout"
        }
      ]
    },
    {
      "cell_type": "markdown",
      "metadata": {
        "id": "eokykj3s2V3T",
        "colab_type": "text"
      },
      "source": [
        "Let's see a more interesting example:"
      ]
    },
    {
      "cell_type": "code",
      "metadata": {
        "id": "zxxz9nUd2_ok",
        "colab_type": "code",
        "outputId": "9a860fde-3230-423e-e9a8-e57b81abd6a7",
        "colab": {
          "base_uri": "https://localhost:8080/",
          "height": 208
        }
      },
      "source": [
        "names = ['Alice', 'Bob', 'Carol', 'Dave', 'Eve']\n",
        "times = [1, 2, 3, 4, 5]\n",
        "preds = [4, 5, 3, 2, 1]\n",
        "event_obs = [True, True, False, True, True]\n",
        "df = pd.DataFrame(data={'Times': times, 'Predictions': preds, 'Event observed?': event_obs}, index=names)\n",
        "print(df)\n",
        "print(f'Concordance-index (scikit-survival): {ci_scikit(event_obs, events, preds)[0]}')\n",
        "print(f'Number of concordant pairs (scikit-survival): {ci_scikit(event_obs, events, preds)[1]}')\n",
        "print(f'Number of discordant pairs (scikit-survival): {ci_scikit(event_obs, events, preds)[2]}')\n",
        "print(f'Number of pairs having tied estimated risks (scikit-survival): {ci_scikit(event_obs, events, preds)[3]}')\n",
        "print(f'Number of comparable pairs sharing the same time (scikit-survival): {ci_scikit(event_obs, events, preds)[4]}')"
      ],
      "execution_count": 15,
      "outputs": [
        {
          "output_type": "stream",
          "text": [
            "       Times  Predictions  Event observed?\n",
            "Alice      1            4             True\n",
            "Bob        2            5             True\n",
            "Carol      3            3            False\n",
            "Dave       4            2             True\n",
            "Eve        5            1             True\n",
            "Concordance-index (scikit-survival): 0.875\n",
            "Number of concordant pairs (scikit-survival): 7\n",
            "Number of discordant pairs (scikit-survival): 1\n",
            "Number of pairs having tied estimated risks (scikit-survival): 0\n",
            "Number of comparable pairs sharing the same time (scikit-survival): 0\n"
          ],
          "name": "stdout"
        }
      ]
    },
    {
      "cell_type": "markdown",
      "metadata": {
        "id": "VfMR2uf66fUN",
        "colab_type": "text"
      },
      "source": [
        "PySurvival concordance index inputs are:\n",
        "+ a model\n",
        "+ input samples\n",
        "+ event/censoring times\n",
        "+ event observed\n",
        "\n",
        "PySurvival concordance index outputs are:\n",
        "+ the concordance index\n",
        "+ if additional_results=True \n",
        "  - Number of pairs\n",
        "  - Number of concordant pairs\n",
        "\n",
        "PySurvival concordance index needs a model as input so it's harder to see what does the concordance index do. Let's try it with a Random survival forest:"
      ]
    },
    {
      "cell_type": "code",
      "metadata": {
        "id": "97IVylML5qCE",
        "colab_type": "code",
        "colab": {}
      },
      "source": [
        "np.random.seed(42)\n",
        "x = np.linspace(0,10)\n",
        "y = x + np.random.normal(0, 1, x.shape)\n",
        "x1 = x[...,None] # we add a dimension so that RandomSurvivalForestModel doesn't complain\n",
        "x_trn, x_val = x1[:40], x1[40:]\n",
        "y_trn, y_val = y[:40], y[40:]\n",
        "event_obs_trn = [True for i in range(len(x_trn))]\n",
        "event_obs_val = [True for i in range(len(x_val))]"
      ],
      "execution_count": 0,
      "outputs": []
    },
    {
      "cell_type": "code",
      "metadata": {
        "id": "fPpS7bzWs-Tq",
        "colab_type": "code",
        "outputId": "27d60815-28f7-45bb-c71b-ff8603ed2cb2",
        "colab": {
          "base_uri": "https://localhost:8080/",
          "height": 69
        }
      },
      "source": [
        "from pysurvival.models.survival_forest import RandomSurvivalForestModel\n",
        "\n",
        "rsf = RandomSurvivalForestModel(num_trees=20)\n",
        "rsf.fit(x_trn, y_trn, event_obs_trn, seed=0)\n",
        "print(f'Concordance-index (PySurvival): {ci_pysurvival(rsf, x_trn, y_trn, event_obs_trn, additional_results=False):.3f}')\n",
        "print(f'Concordance index (lifelines): {ci_lifelines(y_trn, -rsf.predict_risk(x_trn), event_obs_trn):.3f}')\n",
        "print(f'Concordance index (scikit-survival): {ci_scikit(event_obs_trn, y_trn, rsf.predict_risk(x_trn))[0]:.3f}')"
      ],
      "execution_count": 17,
      "outputs": [
        {
          "output_type": "stream",
          "text": [
            "Concordance-index (PySurvival): 0.830\n",
            "Concordance index (lifelines): 0.830\n",
            "Concordance index (scikit-survival): 0.830\n"
          ],
          "name": "stdout"
        }
      ]
    },
    {
      "cell_type": "markdown",
      "metadata": {
        "id": "tfc-nVmMnumW",
        "colab_type": "text"
      },
      "source": [
        "We notice that the three concordance indexes give us the same result. Let's look at the additional results:"
      ]
    },
    {
      "cell_type": "code",
      "metadata": {
        "id": "iYXC0Grr6Co-",
        "colab_type": "code",
        "outputId": "9f1ef4da-78fe-4414-ffc2-81a5ce25864a",
        "colab": {
          "base_uri": "https://localhost:8080/",
          "height": 121
        }
      },
      "source": [
        "print(f'Number of total pairs (pysurvival): {ci_pysurvival(rsf, x_trn, y_trn, event_obs_trn, additional_results=True)[1]:.0f}')\n",
        "print(f'Number of concordant pairs (pysurvival): {ci_pysurvival(rsf, x_trn, y_trn, event_obs_trn, additional_results=True)[2]:.0f}')\n",
        "print(f'Number of concordant pairs (scikit-survival): {ci_scikit(event_obs_trn, y_trn, rsf.predict_risk(x_trn))[1]}')\n",
        "print(f'Number of discordant pairs (scikit-survival): {ci_scikit(event_obs_trn, y_trn, rsf.predict_risk(x_trn))[2]}')\n",
        "print(f'Number of pairs having tied estimated risks (scikit-survival): {ci_scikit(event_obs_trn, y_trn, rsf.predict_risk(x_trn))[3]}')\n",
        "print(f'Number of comparable pairs sharing the same time (scikit-survival): {ci_scikit(event_obs_trn, y_trn, rsf.predict_risk(x_trn))[4]}')"
      ],
      "execution_count": 18,
      "outputs": [
        {
          "output_type": "stream",
          "text": [
            "Number of total pairs (pysurvival): 1560\n",
            "Number of concordant pairs (pysurvival): 1295\n",
            "Number of concordant pairs (scikit-survival): 558\n",
            "Number of discordant pairs (scikit-survival): 43\n",
            "Number of pairs having tied estimated risks (scikit-survival): 179\n",
            "Number of comparable pairs sharing the same time (scikit-survival): 0\n"
          ],
          "name": "stdout"
        }
      ]
    },
    {
      "cell_type": "markdown",
      "metadata": {
        "id": "y_HjJzb9twOM",
        "colab_type": "text"
      },
      "source": [
        "We notice that PySurvival counts pairs two times (Alice, Bob) and (Bob, Alice) while scikit-survival counts it only once. That explains the difference between the number of concordant pairs."
      ]
    },
    {
      "cell_type": "markdown",
      "metadata": {
        "id": "WDJYb_Tn4KWM",
        "colab_type": "text"
      },
      "source": [
        "Let's do random predictions and see the concordance index we obtain."
      ]
    },
    {
      "cell_type": "code",
      "metadata": {
        "id": "sQx4zxpt0sCA",
        "colab_type": "code",
        "colab": {}
      },
      "source": [
        "actuals = np.arange(0,10,1)\n",
        "\n",
        "# choose 20 random seeds\n",
        "np.random.seed(0)\n",
        "seeds = np.random.permutation(1000)[:100]\n",
        "\n",
        "ci_random = []\n",
        "for _seed in seeds:\n",
        "  np.random.seed(_seed); preds_random = np.random.permutation(np.arange(0,10,1))\n",
        "  ci_random.append(ci_lifelines(actuals,preds_random))"
      ],
      "execution_count": 0,
      "outputs": []
    },
    {
      "cell_type": "code",
      "metadata": {
        "id": "jQsr3t_248xc",
        "colab_type": "code",
        "outputId": "fe44cd36-b39c-42a8-b34d-a90daec1d41c",
        "colab": {
          "base_uri": "https://localhost:8080/",
          "height": 35
        }
      },
      "source": [
        "print(f'Mean concordance index of random predictions: {np.mean(ci_random):.3f}')"
      ],
      "execution_count": 20,
      "outputs": [
        {
          "output_type": "stream",
          "text": [
            "Mean concordance index of random predictions: 0.517\n"
          ],
          "name": "stdout"
        }
      ]
    },
    {
      "cell_type": "markdown",
      "metadata": {
        "id": "02zdCT6xobOS",
        "colab_type": "text"
      },
      "source": [
        "Let's see the concordance indexes of our random predictions in a box plot:"
      ]
    },
    {
      "cell_type": "code",
      "metadata": {
        "id": "Wc4yEkVG4vlk",
        "colab_type": "code",
        "outputId": "c2d77856-f05c-4c70-df1f-255e697b2a12",
        "colab": {
          "base_uri": "https://localhost:8080/",
          "height": 513
        }
      },
      "source": [
        "data = ci_random\n",
        "green_diamond = dict(markerfacecolor='g', marker='D')\n",
        "\n",
        "fig1, ax1 = plt.subplots(figsize=(7,7))\n",
        "ax1.set_title('Concordance indexes of random predictions')\n",
        "ax1.boxplot(data, notch=False, flierprops=green_diamond)\n",
        "ax1.set_xlabel('Random predictions')\n",
        "ax1.set_ylabel('Concordance index')\n",
        "plt.tight_layout()\n",
        "plt.show()"
      ],
      "execution_count": 21,
      "outputs": [
        {
          "output_type": "display_data",
          "data": {
            "image/png": "[encoded data removed]",
            "text/plain": [
              "<Figure size 504x504 with 1 Axes>"
            ]
          },
          "metadata": {
            "tags": []
          }
        }
      ]
    },
    {
      "cell_type": "markdown",
      "metadata": {
        "id": "5eulYERhomKP",
        "colab_type": "text"
      },
      "source": [
        "## Conclusions\n",
        "\n",
        "Concordance index is a useful metric to evaluate the predictions made by an algorithm. It can consider the case of right-censoring, i.e., when by the end of the study, the event of interest (for example, in medicine 'death of a patient' or in our example 'churn of a customer') has only occurred for a subset of the observations. We have seen three libraries (lifelines, scikit-survival, and PySurvival) who implement the concordance index but with some subtle differences."
      ]
    },
    {
      "cell_type": "markdown",
      "metadata": {
        "id": "nRE2p7s1b_Rn",
        "colab_type": "text"
      },
      "source": [
        "**Sources**\n",
        "\n",
        "+ Harrell F.E Jr., Lee K.L., Mark D.B., [\"Multivariable prognostic models: issues in developing models, evaluating assumptions and adequacy, and measuring and reducing errors\"](https://doi.org/10.1002/(SICI)1097-0258(19960229)15:4%3C361::AID-SIM168%3E3.0.CO;2-4), Statistics in Medicine, 15(4), 361-87, 1996.\n",
        "+ [Lifelines' concordance index](https://lifelines.readthedocs.io/en/latest/lifelines.utils.html#lifelines.utils.concordance_index)\n",
        "+ [Scikit-survival's concordance index](https://scikit-survival.readthedocs.io/en/latest/generated/sksurv.metrics.concordance_index_censored.html#sksurv.metrics.concordance_index_censored)\n",
        "+ [PySurvival's concordance index](https://square.github.io/pysurvival/metrics/c_index.html)"
      ]
    }
  ]
}